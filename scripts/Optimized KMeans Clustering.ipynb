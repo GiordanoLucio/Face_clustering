{
 "cells": [
  {
   "cell_type": "markdown",
   "metadata": {
    "colab_type": "text",
    "id": "21xhU4zFI7HS"
   },
   "source": [
    "# K-Means Clustering (2-Optimized Version)\n",
    "\n",
    "This is a version of k-means algorithm in which it is precently applied an optimization technique. Basically this code performs a k-means to cluster faces.\n",
    "\n",
    "##Optimization\n",
    "Before clustering, the dataset labelled to each subject is indipendently subclustered in 2 subclusters to increase the precision. This method is meant to reduce the number of elements per cluster in order to increase their spacial intercorrelation.\n",
    "\n",
    "It is decided the number 2 for time purposes but in a future this part must be changed into a dynamic choose of the proper number of subclusters\n",
    "\n",
    "##The code\n",
    "The code performs all the operations to prepare the clustering and the operations needed to pair the generated labels of the clustering with the old ones.\n",
    "\n",
    "##The testing\n",
    "Each subject has an old_label. That old_label is linked to other 2 labels. Each label is linked to one generated_label by the array solution.\n",
    "\n",
    "There are 2 ways to test the clustering. The first one starts from the subject to identify returning the corresponding labels. The second one starts from a testing file, returning the precision of the labelling operation."
   ]
  },
  {
   "cell_type": "markdown",
   "metadata": {
    "colab_type": "text",
    "id": "2Ad-S66aIiFq"
   },
   "source": [
    "#Code"
   ]
  },
  {
   "cell_type": "markdown",
   "metadata": {
    "colab_type": "text",
    "id": "unlDDnf4Hi-j"
   },
   "source": [
    "##Setup"
   ]
  },
  {
   "cell_type": "code",
   "execution_count": 18,
   "metadata": {
    "colab": {},
    "colab_type": "code",
    "id": "FNXuJrEiSDrR"
   },
   "outputs": [],
   "source": [
    "from sklearn.cluster import KMeans\n",
    "import pandas as pd\n",
    "import numpy as np\n",
    "import csv\n",
    "\n",
    "import matplotlib.pyplot as plt\n",
    "%matplotlib inline\n",
    "\n",
    "import random\n",
    "from sklearn.decomposition import PCA\n",
    "\n",
    "from pulp import *"
   ]
  },
  {
   "cell_type": "code",
   "execution_count": 19,
   "metadata": {
    "colab": {
     "base_uri": "https://localhost:8080/",
     "height": 90
    },
    "colab_type": "code",
    "executionInfo": {
     "elapsed": 5468,
     "status": "ok",
     "timestamp": 1544985646265,
     "user": {
      "displayName": "Lucio Giordano",
      "photoUrl": "",
      "userId": "06146226138430505709"
     },
     "user_tz": -60
    },
    "id": "qDmFHIF-TEod",
    "outputId": "4b96faa6-b05b-4784-8c10-ebe6248ec5ff"
   },
   "outputs": [
    {
     "name": "stdout",
     "output_type": "stream",
     "text": [
      "dataset_size: 4320\n",
      "number_clusters: 62\n",
      "labels_h: [1.0, 2.0, 3.0, 4.0, 5.0, 6.0, 7.0, 8.0, 9.0, 10.0, 11.0, 12.0, 13.0, 14.0, 15.0, 16.0, 17.0, 18.0, 19.0, 20.0, 21.0, 22.0, 23.0, 24.0, 25.0, 26.0, 27.0, 28.0, 29.0, 30.0, 31.0, 32.0, 33.0, 34.0, 35.0, 36.0, 37.0, 38.0, 39.0, 40.0, 41.0, 42.0, 43.0, 44.0, 45.0, 46.0, 47.0, 48.0, 49.0, 50.0, 51.0, 52.0, 53.0, 54.0, 55.0, 56.0, 57.0, 58.0, 59.0, 60.0, 61.0, 62.0]\n"
     ]
    }
   ],
   "source": [
    "#Dataset\n",
    "url = '../csv_files/final_training.csv' \n",
    "\n",
    "dataset = []\n",
    "\n",
    "#Read csv and put everything into a matrix\n",
    "reader = csv.reader(open(url), delimiter=\",\")\n",
    "x = list(reader)\n",
    "dataset = np.array(x).astype(\"float\")\n",
    "\n",
    "#Sort the dataset matrix to ensure consistent calculation\n",
    "row_length = dataset[0,:].size\n",
    "dataset = sorted(dataset,key=lambda x:x[row_length-1])\n",
    "dataset = np.array(dataset)\n",
    "\n",
    "#Variables\n",
    "\n",
    "#Setting variables\n",
    "labels = dataset[:,(dataset.shape[1]-1)]\n",
    "dataset = dataset[:,:(dataset.shape[1]-1)]\n",
    "dataset_size = dataset[:,0].size\n",
    "row_length = dataset[0,:].size\n",
    "\n",
    "#Number of clusters\n",
    "number_clusters = 1\n",
    "for i in range(1, dataset_size):\n",
    "  if labels[i] != labels[i-1]:\n",
    "    number_clusters += 1\n",
    "    \n",
    "#Labels without repetitions\n",
    "labels_h = []\n",
    "labels_h.append(labels[0])\n",
    "for i in range(1, dataset_size):\n",
    "  if (labels[i] != labels[i-1]):\n",
    "    labels_h.append(labels[i])\n",
    "    \n",
    "old_labels = labels\n",
    "old_labels_h = labels_h\n",
    "    \n",
    "print('dataset_size:', dataset_size)\n",
    "print('number_clusters:', number_clusters)\n",
    "print('labels_h:', labels_h)"
   ]
  },
  {
   "cell_type": "markdown",
   "metadata": {
    "colab_type": "text",
    "id": "LTs3Yb89xkq7"
   },
   "source": [
    "##Optimization"
   ]
  },
  {
   "cell_type": "code",
   "execution_count": 20,
   "metadata": {
    "colab": {},
    "colab_type": "code",
    "id": "CO6kT-LCxkO7"
   },
   "outputs": [],
   "source": [
    "#Subclustering and generation of new labels\n",
    "subcluster_number = 1\n",
    "\n",
    "for i in range(number_clusters):\n",
    "  curr_cluster = []\n",
    "  curr_cluster_index = []\n",
    "  \n",
    "  #Get the current label rows and their indexes\n",
    "  for j in range(dataset_size):\n",
    "    if labels[j] == labels_h[i]:\n",
    "      curr_cluster.append(dataset[j])\n",
    "      curr_cluster_index.append(j)     \n",
    "      \n",
    "      #Pre updating labels. Useful later on\n",
    "      labels[j] = labels[j] * 1000\n",
    "      \n",
    "  if len(curr_cluster) > (subcluster_number - 1):\n",
    "    #Subclustering\n",
    "    kmeans = KMeans(n_clusters=subcluster_number, random_state=0).fit(curr_cluster)\n",
    "    generated_labels = kmeans.labels_\n",
    "    \n",
    "    for j in range(generated_labels.size):\n",
    "      labels[curr_cluster_index[j]] = labels[curr_cluster_index[j]] + generated_labels[j]"
   ]
  },
  {
   "cell_type": "code",
   "execution_count": 21,
   "metadata": {
    "colab": {},
    "colab_type": "code",
    "id": "o9wDBSI-1L0A"
   },
   "outputs": [],
   "source": [
    "#Putting the optimized dataset back together\n",
    "dataset = np.insert(dataset, dataset.shape[1], labels, axis=1)"
   ]
  },
  {
   "cell_type": "code",
   "execution_count": 22,
   "metadata": {
    "colab": {},
    "colab_type": "code",
    "id": "Qu0SOgl66vOV"
   },
   "outputs": [],
   "source": [
    "#Sort the dataset matrix for further elaboration\n",
    "dataset = sorted(dataset,key=lambda x:x[row_length])\n",
    "dataset = np.array(dataset)"
   ]
  },
  {
   "cell_type": "code",
   "execution_count": 23,
   "metadata": {
    "colab": {
     "base_uri": "https://localhost:8080/",
     "height": 90
    },
    "colab_type": "code",
    "executionInfo": {
     "elapsed": 6574,
     "status": "ok",
     "timestamp": 1544985647383,
     "user": {
      "displayName": "Lucio Giordano",
      "photoUrl": "",
      "userId": "06146226138430505709"
     },
     "user_tz": -60
    },
    "id": "gy7m14560y4D",
    "outputId": "ef71f74e-1b09-42c9-97e3-925f0a936f24"
   },
   "outputs": [
    {
     "name": "stdout",
     "output_type": "stream",
     "text": [
      "dataset_size: 4320\n",
      "number_clusters: 62\n",
      "labels_h: [1000.0, 2000.0, 3000.0, 4000.0, 5000.0, 6000.0, 7000.0, 8000.0, 9000.0, 10000.0, 11000.0, 12000.0, 13000.0, 14000.0, 15000.0, 16000.0, 17000.0, 18000.0, 19000.0, 20000.0, 21000.0, 22000.0, 23000.0, 24000.0, 25000.0, 26000.0, 27000.0, 28000.0, 29000.0, 30000.0, 31000.0, 32000.0, 33000.0, 34000.0, 35000.0, 36000.0, 37000.0, 38000.0, 39000.0, 40000.0, 41000.0, 42000.0, 43000.0, 44000.0, 45000.0, 46000.0, 47000.0, 48000.0, 49000.0, 50000.0, 51000.0, 52000.0, 53000.0, 54000.0, 55000.0, 56000.0, 57000.0, 58000.0, 59000.0, 60000.0, 61000.0, 62000.0]\n"
     ]
    }
   ],
   "source": [
    "#Setting variables on optimized dataset\n",
    "labels = dataset[:,(dataset.shape[1]-1)]\n",
    "dataset = dataset[:,:(dataset.shape[1]-1)]\n",
    "dataset_size = dataset[:,0].size\n",
    "row_length = dataset[0,:].size\n",
    "\n",
    "#Number of clusters\n",
    "number_clusters = 1\n",
    "for i in range(1, dataset_size):\n",
    "  if labels[i] != labels[i-1]:\n",
    "    number_clusters += 1\n",
    "    \n",
    "#Labels without repetitions\n",
    "labels_h = []\n",
    "labels_h.append(labels[0])\n",
    "for i in range(1, dataset_size):\n",
    "  if (labels[i] != labels[i-1]):\n",
    "    labels_h.append(labels[i])\n",
    "    \n",
    "print('dataset_size:', dataset_size)\n",
    "print('number_clusters:', number_clusters)\n",
    "print('labels_h:', labels_h)"
   ]
  },
  {
   "cell_type": "markdown",
   "metadata": {
    "colab_type": "text",
    "id": "cIbKEYP4QiSI"
   },
   "source": [
    "##Clustering Block"
   ]
  },
  {
   "cell_type": "code",
   "execution_count": 24,
   "metadata": {
    "colab": {},
    "colab_type": "code",
    "id": "fNiXzIHsTmdV"
   },
   "outputs": [],
   "source": [
    "#Applying kmeans classifier\n",
    "kmeans = KMeans(n_clusters=number_clusters, random_state=0).fit(dataset)\n",
    "generated_labels = kmeans.labels_"
   ]
  },
  {
   "cell_type": "code",
   "execution_count": 25,
   "metadata": {
    "colab": {},
    "colab_type": "code",
    "id": "fSIYKoMETKvf"
   },
   "outputs": [],
   "source": [
    "#Filling this array before doing the validation\n",
    "generated_labels_h = [] \n",
    "\n",
    "#Copy the list of the labels to avoid side effects\n",
    "sorted_generated_labels = generated_labels.copy()\n",
    "sorted_generated_labels.sort()\n",
    "\n",
    "#Extract generated labels without repetition\n",
    "generated_labels_h.append(sorted_generated_labels[0])\n",
    "for i in range(1, dataset_size):\n",
    "  if (sorted_generated_labels[i] != sorted_generated_labels[i-1]):\n",
    "    generated_labels_h.append(sorted_generated_labels[i])"
   ]
  },
  {
   "cell_type": "markdown",
   "metadata": {
    "colab_type": "text",
    "id": "-0n-gIZ7ISIu"
   },
   "source": [
    "##Matching Block"
   ]
  },
  {
   "cell_type": "code",
   "execution_count": 26,
   "metadata": {
    "colab": {},
    "colab_type": "code",
    "id": "p91yfqjzPSST"
   },
   "outputs": [],
   "source": [
    "#Building the flow matrix\n",
    "flow = []    \n",
    "\n",
    "for curr_label in range(number_clusters):\n",
    "  #Getting the precision flow per label index\n",
    "  precision_flow = np.zeros(number_clusters)\n",
    "  \n",
    "  #Getting the generated labels for the current labels\n",
    "  generated_curr_labels = []\n",
    "  for i in range(dataset_size):\n",
    "    if labels[i] == labels_h[curr_label]:\n",
    "      generated_curr_labels.append(kmeans.predict([dataset[i,:]]))\n",
    "\n",
    "  generated_curr_labels.sort()\n",
    "  curr_generated_label = generated_curr_labels[0]\n",
    "  curr_generated_label_occurrences = 1\n",
    "  \n",
    "  for i in range(1, len(generated_curr_labels)):\n",
    "    \n",
    "    if curr_generated_label != generated_curr_labels[i]:\n",
    "      #If the label changes, it is calulated the percentage precision in the vector \n",
    "      precision_flow[curr_generated_label] = curr_generated_label_occurrences / len(generated_curr_labels) * 100\n",
    "      \n",
    "      curr_generated_label = generated_curr_labels[i]\n",
    "      curr_generated_label_occurrences = 1\n",
    "    else:\n",
    "      #If the label doesn't change, it is set one occurrence more\n",
    "      curr_generated_label_occurrences += 1\n",
    "  \n",
    "  #Otherwise the algorithm doesn't find the last item because there is no\n",
    "  #other element at the end to trigger the if condition\n",
    "  precision_flow[curr_generated_label] = curr_generated_label_occurrences / len(generated_curr_labels) * 100\n",
    "  \n",
    "  flow.append(precision_flow)"
   ]
  },
  {
   "cell_type": "code",
   "execution_count": 27,
   "metadata": {
    "colab": {},
    "colab_type": "code",
    "id": "UPYqLfmpRQjy"
   },
   "outputs": [],
   "source": [
    "def calculate_matching(flow):\n",
    "  n = flow[0].size #number of subjects = number of clusters\n",
    "  problem = LpProblem(\"From Label to Cluster\", LpMinimize)\n",
    "  \n",
    "  #GENERATE LP PROBLEM VARIABLES\n",
    "  x = [[]]*n\n",
    "  for i in range(0, n):\n",
    "    x[i] = np.empty(n, dtype=LpVariable)\n",
    "    for j in range(0, n):\n",
    "      #generate variable which represents flux on edge (u, v) for all u representing labels and for all v representing clusters\n",
    "      exec(\"x[%d][%d] = LpVariable(\\\"x_%d_%d\\\",0,1,LpInteger)\" % (i, j, i, j))      \n",
    "  \n",
    "  #SET THE OBJECTIVE FUNCTION\n",
    "  problem += sum((-flow[i][j])*x[i][j] for i in range(0, n) for j in range(0, n)), \"Objective function\"\n",
    "  \n",
    "  #COSTRAINTS\n",
    "  problem += sum(x[i][j] for i in range(0, n) for j in range(0, n)) == n, \"Exactly n couples found\"\n",
    "  \n",
    "  #COSTRAINTS\n",
    "  for i in range(0, n):\n",
    "    str = \"Exactly one cluster for label %d\" %i\n",
    "    problem += sum(x[i][j] for j in range(0, n)) == 1, str\n",
    "    \n",
    "  #COSTRAINTS\n",
    "  for j in range(0, n):\n",
    "    str = \"Exactly one label for cluster %d\" %j\n",
    "    problem += sum(x[i][j] for i in range(0, n)) == 1, str\n",
    "    \n",
    "  #SOLVE\n",
    "  matching = [0]*n\n",
    "  #print(problem)\n",
    "  if problem.solve() == 1: #OPTIMUM OBTAINED: SET RETURN VALUES\n",
    "    for v in problem.variables():\n",
    "      if v.varValue == 1:\n",
    "        split = v.name.split(\"_\")\n",
    "        i = int(split[1])\n",
    "        j = int(split[2])\n",
    "        #uncomment to return an array where the i-th value is our custom label corresponding to the i-th cluster\n",
    "        #matching[j] = i\n",
    "        #uncomment to return an array where the i-th value is the cluster corresponding to the i-th subject\n",
    "        matching[i] = j\n",
    "        \n",
    "  else: \n",
    "    print(\"Matching not found!\")\n",
    "    \n",
    "  return matching"
   ]
  },
  {
   "cell_type": "code",
   "execution_count": 28,
   "metadata": {
    "colab": {},
    "colab_type": "code",
    "id": "GN96MPhHMllv"
   },
   "outputs": [],
   "source": [
    "#The array 'solution' links the index of the starting label\n",
    "#with the generated one. For example\n",
    "# let labels_h = [5, 7, 4, 2]\n",
    "# so solution[2] means the generatedd label corresponding to \n",
    "# the originary label 4\n",
    "solution = calculate_matching(flow)"
   ]
  },
  {
   "cell_type": "markdown",
   "metadata": {
    "colab_type": "text",
    "id": "aeRyVa5VMo4q"
   },
   "source": [
    "##Validation Block"
   ]
  },
  {
   "cell_type": "code",
   "execution_count": 29,
   "metadata": {
    "colab": {
     "base_uri": "https://localhost:8080/",
     "height": 34
    },
    "colab_type": "code",
    "executionInfo": {
     "elapsed": 184549,
     "status": "ok",
     "timestamp": 1544985825374,
     "user": {
      "displayName": "Lucio Giordano",
      "photoUrl": "",
      "userId": "06146226138430505709"
     },
     "user_tz": -60
    },
    "id": "hEtjh1MxBc1E",
    "outputId": "cc715cf4-99a2-45ff-bfba-f25616ac5154"
   },
   "outputs": [
    {
     "name": "stdout",
     "output_type": "stream",
     "text": [
      "71.85185185185185 %\n"
     ]
    }
   ],
   "source": [
    "#Set the overall precision of the model\n",
    "precision = []\n",
    "overall = 0\n",
    "for i in range(number_clusters):\n",
    "  precision.append(flow[i][solution[i]])\n",
    "  \n",
    "  #Number of items per cluster\n",
    "  number_items = 0\n",
    "  for j in range(dataset_size):\n",
    "    if labels_h[i] == labels[j]:\n",
    "      number_items += 1\n",
    "      \n",
    "  overall += (precision[i] * number_items)\n",
    "\n",
    "overall = overall / dataset_size\n",
    "print(overall, '%')"
   ]
  },
  {
   "cell_type": "markdown",
   "metadata": {
    "colab_type": "text",
    "id": "h6vtXcFjQdFe"
   },
   "source": [
    "##Plotting Block"
   ]
  },
  {
   "cell_type": "code",
   "execution_count": 30,
   "metadata": {
    "colab": {
     "base_uri": "https://localhost:8080/",
     "height": 1900
    },
    "colab_type": "code",
    "executionInfo": {
     "elapsed": 187805,
     "status": "ok",
     "timestamp": 1544985828649,
     "user": {
      "displayName": "Lucio Giordano",
      "photoUrl": "",
      "userId": "06146226138430505709"
     },
     "user_tz": -60
    },
    "id": "S0qKUmgxxOn-",
    "outputId": "37fcf3f4-de84-4bc3-b0be-10d6d92598d5"
   },
   "outputs": [
    {
     "data": {
      "image/png": "[encoded data removed]",
      "text/plain": [
       "<Figure size 432x288 with 1 Axes>"
      ]
     },
     "metadata": {
      "needs_background": "light"
     },
     "output_type": "display_data"
    }
   ],
   "source": [
    "#Normalizing data for visualization\n",
    "dataset_norm = (dataset - dataset.min())/(dataset.max() - dataset.min())\n",
    "\n",
    "pca = PCA(n_components=2)\n",
    "transformed = pd.DataFrame(pca.fit_transform(dataset_norm))\n",
    "\n",
    "plt.scatter(transformed[generated_labels==i][0], transformed[generated_labels==i][1], label=i)\n",
    "  \n",
    "  \n",
    "plt.legend()\n",
    "plt.show()"
   ]
  },
  {
   "cell_type": "markdown",
   "metadata": {
    "colab_type": "text",
    "id": "0PuurrNbPdWo"
   },
   "source": [
    "##Testing Block"
   ]
  },
  {
   "cell_type": "code",
   "execution_count": 31,
   "metadata": {
    "colab": {
     "base_uri": "https://localhost:8080/",
     "height": 156
    },
    "colab_type": "code",
    "executionInfo": {
     "elapsed": 187793,
     "status": "ok",
     "timestamp": 1544985828650,
     "user": {
      "displayName": "Lucio Giordano",
      "photoUrl": "",
      "userId": "06146226138430505709"
     },
     "user_tz": -60
    },
    "id": "1h-PQULqWGGz",
    "outputId": "d09fc71c-fc4f-4bd3-81be-9a9c6e291b6e"
   },
   "outputs": [
    {
     "name": "stdout",
     "output_type": "stream",
     "text": [
      "Subject number: 10\n",
      "Dataset label: 11.0\n",
      "Associated labels: [11000.0]\n",
      "\n",
      "Solution labels: [46, 46, 46, 46, 46, 46, 46, 46, 46, 46, 46, 46, 46, 46, 46, 46, 46, 46, 46, 46, 46, 46, 46, 46, 46, 46, 46, 46, 46, 46, 46, 46, 46, 46, 46, 46, 46, 46, 46, 46, 46, 46, 46, 46, 46, 46, 46, 46, 46, 46, 46, 46, 46, 46, 46, 46, 46, 46, 46, 46, 46, 46, 46, 46, 46, 46, 46, 46, 46, 46]\n",
      "Predicted labels: [46, 46, 46, 46, 46, 46, 46, 46, 46, 46, 46, 46, 46, 46, 46, 46, 46, 46, 46, 46, 46, 46, 46, 46, 46, 46, 46, 46, 46, 46, 46, 46, 46, 46, 46, 46, 46, 46, 46, 46, 46, 46, 46, 46, 46, 46, 46, 46, 46, 46, 46, 46, 46, 46, 31, 31, 31, 31, 31, 31, 46, 46, 46, 46, 46, 46, 46, 46, 46, 46]\n",
      "Precision: 91.42857142857143 %\n"
     ]
    }
   ],
   "source": [
    "subject = 10\n",
    "#Manual checking\n",
    "subject_label_index = [] # the indexes in labels_h of the subclustered labels\n",
    "subject_labels = [] # the subclustered label_h - for visualization only\n",
    "\n",
    "#Extraction of the originary labels belonging to the subject\n",
    "for i in range(number_clusters):\n",
    "  if old_labels_h[subject]*1000 <= labels_h[i]:\n",
    "    if (old_labels_h[subject]+1)*1000 > labels_h[i]:\n",
    "      subject_label_index.append(i)\n",
    "      subject_labels.append(labels_h[i]) #for visualization only\n",
    "\n",
    "error = 0\n",
    "num_items = 0\n",
    "subject_generated_labels = []  # for visualization only\n",
    "subject_correct_generated_labels = [] # for visualization only\n",
    "\n",
    "#Getting the precision\n",
    "for i in range(len(subject_label_index)):\n",
    "  curr_label = labels_h[subject_label_index[i]]\n",
    "  curr_solution = solution[subject_label_index[i]]\n",
    "  \n",
    "  for j in range(dataset_size):\n",
    "    if labels[j] == curr_label:\n",
    "      tested_label = kmeans.predict([dataset[j,:]])\n",
    "      subject_generated_labels.append(tested_label[0]) # for visualization only\n",
    "      subject_correct_generated_labels.append(curr_solution) # for visualization only\n",
    "      num_items += 1\n",
    "      \n",
    "      if tested_label != curr_solution:\n",
    "        error += 1\n",
    "\n",
    "#Printing\n",
    "print('Subject number:', subject)\n",
    "print('Dataset label:',old_labels_h[subject])\n",
    "print('Associated labels:',subject_labels)\n",
    "print()\n",
    "print('Solution labels:',subject_correct_generated_labels)\n",
    "print('Predicted labels:',subject_generated_labels)\n",
    "print('Precision:', (num_items-error)/num_items*100, '%')"
   ]
  },
  {
   "cell_type": "code",
   "execution_count": 32,
   "metadata": {
    "colab": {
     "base_uri": "https://localhost:8080/",
     "height": 68
    },
    "colab_type": "code",
    "executionInfo": {
     "elapsed": 1077,
     "status": "ok",
     "timestamp": 1544986499912,
     "user": {
      "displayName": "Lucio Giordano",
      "photoUrl": "",
      "userId": "06146226138430505709"
     },
     "user_tz": -60
    },
    "id": "CQHyF2Bbn3oc",
    "outputId": "09547630-8b31-4e75-943e-d2c1f5c0648e"
   },
   "outputs": [
    {
     "name": "stdout",
     "output_type": "stream",
     "text": [
      "Correct Matchings: 279\n",
      "Wrong Matchings: 31\n",
      "Precision:  90.0 %\n"
     ]
    }
   ],
   "source": [
    "#Test from dataset\n",
    "url = \"../csv_files/testing/1_Indoor_lights_cooperative_testing.csv\"\n",
    "\n",
    "test_dataset = []\n",
    "\n",
    "#Read csv and put everything into a matrix\n",
    "reader = csv.reader(open(url), delimiter=\",\")\n",
    "x = list(reader)\n",
    "test_dataset = np.array(x).astype(\"float\")\n",
    "\n",
    "#Variables of the testing dataset\n",
    "test_labels = test_dataset[:,(test_dataset.shape[1]-1)]\n",
    "test_dataset = test_dataset[:,:(test_dataset.shape[1]-1)]\n",
    "test_dataset_size = test_dataset[:,0].size\n",
    "\n",
    "#Predict\n",
    "tested_predicted_labels = kmeans.predict(test_dataset)\n",
    "\n",
    "correct_matchings = 0\n",
    "wrong_matchings = 0\n",
    "\n",
    "for i in range(test_dataset_size):\n",
    "  \n",
    "  for j in range(number_clusters):\n",
    "    if solution[j] == tested_predicted_labels[i]:\n",
    "      paired_sublabel = labels_h[j]\n",
    "      originary_label = int(round(labels_h[j]/1000))\n",
    "      \n",
    "      if (test_labels[i] == originary_label):\n",
    "        correct_matchings += 1\n",
    "      else:\n",
    "        wrong_matchings += 1\n",
    "        \n",
    "print('Correct Matchings:', correct_matchings)\n",
    "print('Wrong Matchings:', wrong_matchings)\n",
    "print('Precision: ', correct_matchings / (correct_matchings + wrong_matchings) * 100, '%')"
   ]
  }
 ],
 "metadata": {
  "accelerator": "GPU",
  "colab": {
   "collapsed_sections": [],
   "name": "Optimized KMeans Clustering.ipynb",
   "provenance": [],
   "version": "0.3.2"
  },
  "kernelspec": {
   "display_name": "Python 3",
   "language": "python",
   "name": "python3"
  },
  "language_info": {
   "codemirror_mode": {
    "name": "ipython",
    "version": 3
   },
   "file_extension": ".py",
   "mimetype": "text/x-python",
   "name": "python",
   "nbconvert_exporter": "python",
   "pygments_lexer": "ipython3",
   "version": "3.5.6"
  }
 },
 "nbformat": 4,
 "nbformat_minor": 1
}
